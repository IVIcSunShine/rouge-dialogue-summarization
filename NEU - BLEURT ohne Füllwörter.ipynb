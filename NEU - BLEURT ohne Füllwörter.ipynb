{
 "cells": [
  {
   "cell_type": "code",
   "execution_count": 1,
   "id": "7f910d45",
   "metadata": {},
   "outputs": [
    {
     "name": "stdout",
     "output_type": "stream",
     "text": [
      "INFO:tensorflow:Reading checkpoint /Users/peter/BLEURT/bleurt/BLEURT-20.\n",
      "INFO:tensorflow:Config file found, reading.\n",
      "INFO:tensorflow:Will load checkpoint BLEURT-20\n",
      "INFO:tensorflow:Loads full paths and checks that files exists.\n",
      "INFO:tensorflow:... name:BLEURT-20\n",
      "INFO:tensorflow:... bert_config_file:bert_config.json\n",
      "INFO:tensorflow:... max_seq_length:512\n",
      "INFO:tensorflow:... vocab_file:None\n",
      "INFO:tensorflow:... do_lower_case:None\n",
      "INFO:tensorflow:... sp_model:sent_piece\n",
      "INFO:tensorflow:... dynamic_seq_length:True\n",
      "INFO:tensorflow:Creating BLEURT scorer.\n",
      "INFO:tensorflow:Creating SentencePiece tokenizer.\n",
      "INFO:tensorflow:Creating SentencePiece tokenizer.\n",
      "INFO:tensorflow:Will load model: /Users/peter/BLEURT/bleurt/BLEURT-20/sent_piece.model.\n",
      "INFO:tensorflow:SentencePiece tokenizer created.\n",
      "INFO:tensorflow:Creating Eager Mode predictor.\n",
      "INFO:tensorflow:Loading model.\n",
      "INFO:tensorflow:BLEURT initialized.\n"
     ]
    },
    {
     "name": "stderr",
     "output_type": "stream",
     "text": [
      "INFO:tensorflow:BLEURT initialized.\n"
     ]
    }
   ],
   "source": [
    "from bleurt import score\n",
    "# BLEURT-Scorer laden\n",
    "checkpoint = \"/Users/peter/BLEURT/bleurt/BLEURT-20\"  # Pfad zum Checkpoint\n",
    "scorer = score.BleurtScorer(checkpoint)"
   ]
  },
  {
   "cell_type": "code",
   "execution_count": 2,
   "id": "6415a4d0",
   "metadata": {},
   "outputs": [
    {
     "name": "stdout",
     "output_type": "stream",
     "text": [
      "['aber', 'alle', 'allem', 'allen', 'aller', 'alles', 'als', 'also', 'am', 'an', 'ander', 'andere', 'anderem', 'anderen', 'anderer', 'anderes', 'anderm', 'andern', 'anderr', 'anders', 'auch', 'auf', 'aus', 'bei', 'bin', 'bis', 'bist', 'da', 'damit', 'dann', 'der', 'den', 'des', 'dem', 'die', 'das', 'dass', 'daß', 'derselbe', 'derselben', 'denselben', 'desselben', 'demselben', 'dieselbe', 'dieselben', 'dasselbe', 'dazu', 'dein', 'deine', 'deinem', 'deinen', 'deiner', 'deines', 'denn', 'derer', 'dessen', 'dich', 'dir', 'du', 'dies', 'diese', 'diesem', 'diesen', 'dieser', 'dieses', 'doch', 'dort', 'durch', 'ein', 'eine', 'einem', 'einen', 'einer', 'eines', 'einig', 'einige', 'einigem', 'einigen', 'einiger', 'einiges', 'einmal', 'er', 'ihn', 'ihm', 'es', 'etwas', 'euer', 'eure', 'eurem', 'euren', 'eurer', 'eures', 'für', 'gegen', 'gewesen', 'hab', 'habe', 'haben', 'hat', 'hatte', 'hatten', 'hier', 'hin', 'hinter', 'ich', 'mich', 'mir', 'ihr', 'ihre', 'ihrem', 'ihren', 'ihrer', 'ihres', 'euch', 'im', 'in', 'indem', 'ins', 'ist', 'jede', 'jedem', 'jeden', 'jeder', 'jedes', 'jene', 'jenem', 'jenen', 'jener', 'jenes', 'jetzt', 'kann', 'kein', 'keine', 'keinem', 'keinen', 'keiner', 'keines', 'können', 'könnte', 'machen', 'man', 'manche', 'manchem', 'manchen', 'mancher', 'manches', 'mein', 'meine', 'meinem', 'meinen', 'meiner', 'meines', 'mit', 'muss', 'musste', 'nach', 'nicht', 'nichts', 'noch', 'nun', 'nur', 'ob', 'oder', 'ohne', 'sehr', 'sein', 'seine', 'seinem', 'seinen', 'seiner', 'seines', 'selbst', 'sich', 'sie', 'ihnen', 'sind', 'so', 'solche', 'solchem', 'solchen', 'solcher', 'solches', 'soll', 'sollte', 'sondern', 'sonst', 'über', 'um', 'und', 'uns', 'unsere', 'unserem', 'unseren', 'unser', 'unseres', 'unter', 'viel', 'vom', 'von', 'vor', 'während', 'war', 'waren', 'warst', 'was', 'weg', 'weil', 'weiter', 'welche', 'welchem', 'welchen', 'welcher', 'welches', 'wenn', 'werde', 'werden', 'wie', 'wieder', 'will', 'wir', 'wird', 'wirst', 'wo', 'wollen', 'wollte', 'würde', 'würden', 'zu', 'zum', 'zur', 'zwar', 'zwischen']\n"
     ]
    },
    {
     "name": "stderr",
     "output_type": "stream",
     "text": [
      "[nltk_data] Downloading package stopwords to /Users/peter/nltk_data...\n",
      "[nltk_data]   Package stopwords is already up-to-date!\n"
     ]
    }
   ],
   "source": [
    "import nltk \n",
    "from nltk.corpus import stopwords\n",
    "\n",
    "nltk.download('stopwords')\n",
    "german_stopwords = stopwords.words('german')\n",
    "\n",
    "print(german_stopwords)"
   ]
  },
  {
   "cell_type": "code",
   "execution_count": 3,
   "id": "05432894",
   "metadata": {},
   "outputs": [
    {
     "name": "stdout",
     "output_type": "stream",
     "text": [
      "['unterhalten zwei frauen, rita stefanie, chat. rita findet bild rita geschickt total gut stefanie gibt hinweis blödem licht fotografiert wurde. zwei tage später fragt rita stefanie, bild zwei tieren lisas kinderzimmer malen kann. stefanie macht gerne fragt rahmen format. rita gerne größer letzten woraufhin a4 format einigen. geld möchte stefanie dafür nicht. fertig bild nächsten wochen. paar wochen schickt stefanie bild fertigen resultat.', 'jennifer bernd schreiben miteinander, jennifer sagt tun hat, schule mehr hat. jennifer geht deshalb aktuell tanzen liest viele bücher. bernd aktuell job macht stupide büroarbeit, gut bezahlt ist. bernd findet unileben super, einfach spaß macht richtig lernen zeit hat. jennifer weiß aktuell nicht, abitur möchte, australien pläne ansprechpartner schwierig, weshalb woch deutschen flugsicherung bewerbe.', 'chat diskutieren bert rolf aktuelle fußballtrainer dortmund rausgeworfen gehört, aktuell schalke tabelle sind. bert findet reus aufgegangen trainer woraufhin rolf sagt kapitänsbinde wegnehmen sollte. geht niederlagen kommt fan mehr spiel. führungsspieler reus, hummels schmelzer. spieler richtig lustlos platz. hummels laut rolf eher führungsspieler. weigl innenverteidiger null verteidigen schmelzer langsam schon richtig schlecht gespielt. schulz wäre zukunftspieler potenzial. bayern kauft liga einfach alles, mal 1 sind. zukunft dortmund daher eher schwierig.', 'sarah fragt sven handgefertigten holzkunstwerk geburtstagsgeschenk ältere frau. sven bietet holzplatte eiche an, innerhalb kurzer zeit herstellen kann. rücksprache entscheidet person platte, übergabe samstag organisiert 20-25 euro. weiteren verlauf fragt sarah, sven holz herbekommt, sven bekommt material schwager bestellt internet hillmann. stimmen ab abholen sarah dm sven mittagschlag möchte. monat später fragt sarah, sven verkaufen hat, weihnachtsmarkt insgesamt 7 tage verkaufen ist. erneuter nachfrage sarah sven krank mehr machen. anal thrombose laut arzt sportverletzung, beide komisch finden.', 'lara wünscht miriam gute geburtstag, schlägt weihnachten zusammen unternehmen könnten. miriam bedankt finde idee toll. tauschen mutter miriam aus, zuhause mittlerweile geht. falls 21.dezember schlägt lara 22.dezember vor, vielleicht laut miriam nico mitkommen würde. 22.dezember schreiben wieder, heute abend machen, miriam 19 uhr kochen muss. weihnachtsmarkt gehen, absprache wer fährt beide fahren beide trinken möchten. miriam früher gekocht 18 uhr rossmann kassenautomaten parkplätze aktuell abgesperrt sind.']\n",
      "5\n",
      "['es unterhalten sich zwei frauen, rita und stefanie, über einen chat. rita findet ein bild welches rita geschickt hat total gut und stefanie gibt den hinweis das es bei blödem licht fotografiert wurde. zwei tage später fragt rita stefanie, ob sie ihr ein bild mit zwei tieren für ein lisas kinderzimmer malen kann. stefanie macht dies gerne und fragt nach dem rahmen und dem format. rita würde es gerne größer als die letzten haben woraufhin sie sich auf das a4 format einigen. geld möchte stefanie dafür nicht. fertig wird das bild dann in den nächsten wochen. nach ein paar wochen schickt stefanie ein bild von dem fertigen resultat.', 'jennifer und bernd schreiben miteinander, jennifer sagt das sie nicht zu tun hat, da sie keine schule mehr hat. jennifer geht deshalb aktuell viel tanzen und liest viele bücher. bernd hat aktuell einen job und macht dort stupide büroarbeit, welche gut bezahlt ist. bernd findet das unileben super, da es einfach spaß macht richtig was zu lernen und man viel zeit hat. jennifer weiß aktuell noch nicht, was sie nach dem abitur machen möchte, die australien pläne sind durch die ansprechpartner schwierig, weshalb sie sich diese woch noch bei der deutschen flugsicherung bewerbe.', 'im chat diskutieren bert und rolf das der aktuelle fußballtrainer von dortmund rausgeworfen gehört, da sie aktuell hinter schalke in der tabelle sind. bert findet das reus aufgegangen ist bei dem trainer woraufhin rolf sagt das man ihm die kapitänsbinde wegnehmen sollte. wenn das so weiter geht mit den niederlagen dann kommt kein fan mehr zu einem spiel. die einigen führungsspieler sind dort nur reus, hummels und schmelzer. die spieler sind richtig lustlos auf dem platz. hummels ist laut rolf eher ein führungsspieler. weigl als innenverteidiger kann null verteidigen und schmelzer ist langsam und hat schon richtig schlecht gespielt. schulz wäre noch ein zukunftspieler mit potenzial. bayern kauft in der liga einfach alles, wenn die mal nicht auf der 1 sind. die zukunft von dortmund ist daher eher schwierig.', 'eine sarah fragt sven nach einem handgefertigten holzkunstwerk als geburtstagsgeschenk für eine ältere frau. sven bietet eine holzplatte aus eiche an, die er innerhalb kurzer zeit herstellen kann. nach rücksprache entscheidet sich die person für die platte, und die übergabe wird für samstag organisiert für 20-25 euro. im weiteren verlauf fragt sarah, wo sven das holz herbekommt, sven bekommt material von seinem schwager oder bestellt es im internet oder bei hillmann. sie stimmen sich noch ab für das abholen da sarah noch zum dm muss und sven einen mittagschlag machen möchte. einen monat später fragt sarah, ob sven noch etwas zum verkaufen hat, da sie auf einem weihnachtsmarkt für insgesamt 7 tage am verkaufen ist. nach erneuter nachfrage von sarah ist sven aber krank und kann nichts mehr machen. er hat eine anal thrombose laut arzt eine einer sportverletzung, was beide sehr komisch finden.', 'lara wünscht miriam alles gute zum geburtstag, und schlägt vor das sie vor weihnachten noch was zusammen unternehmen könnten. miriam bedankt sich und finde die idee toll. sie tauschen sich über die mutter von miriam aus, ob sie wieder zuhause ist und wie es ihr mittlerweile geht. falls es am 21.dezember nicht wird schlägt lara den 22.dezember vor, wo vielleicht auch laut miriam nico hier ist und mitkommen würde. am 22.dezember schreiben sie wieder, ob sie heute abend noch was machen, miriam könnte gegen 19 uhr da sie noch was kochen muss. sie wollen auf den weihnachtsmarkt gehen, nach absprache wer fährt einigen sie sich das sie beide fahren da sie beide nichts trinken möchten. da miriam früher gekocht hat einigen sie sich auf 18 uhr auf dem rossmann kassenautomaten da andere parkplätze aktuell abgesperrt sind.']\n"
     ]
    }
   ],
   "source": [
    "\n",
    "reference_summary = [\"Es unterhalten sich zwei Frauen, Rita und Stefanie, über einen Chat. Rita findet ein Bild welches Rita geschickt hat total gut und Stefanie gibt den Hinweis das es bei blödem Licht fotografiert wurde. Zwei Tage später fragt Rita Stefanie, ob Sie ihr ein Bild mit zwei Tieren für ein Lisas Kinderzimmer malen kann. Stefanie macht dies gerne und fragt nach dem Rahmen und dem Format. Rita würde es gerne größer als die letzten haben woraufhin Sie sich auf das A4 Format einigen. Geld möchte Stefanie dafür nicht. Fertig wird das Bild dann in den nächsten Wochen. Nach ein paar Wochen schickt Stefanie ein Bild von dem fertigen Resultat.\",\"Jennifer und Bernd schreiben miteinander, Jennifer sagt das Sie nicht zu tun hat, da Sie keine Schule mehr hat. Jennifer geht deshalb aktuell viel tanzen und liest viele Bücher. Bernd hat aktuell einen Job und macht dort stupide Büroarbeit, welche gut bezahlt ist. Bernd findet das Unileben super, da es einfach Spaß macht richtig was zu lernen und man viel Zeit hat. Jennifer weiß aktuell noch nicht, was Sie nach dem Abitur machen möchte, die Australien Pläne sind durch die Ansprechpartner schwierig, weshalb Sie sich diese Woch noch bei der Deutschen Flugsicherung bewerbe.\", \"Im Chat diskutieren Bert und Rolf das der aktuelle Fußballtrainer von Dortmund rausgeworfen gehört, da sie aktuell hinter Schalke in der Tabelle sind. Bert findet das Reus aufgegangen ist bei dem Trainer woraufhin Rolf sagt das man ihm die Kapitänsbinde wegnehmen sollte. Wenn das so weiter geht mit den Niederlagen dann kommt kein Fan mehr zu einem Spiel. Die einigen Führungsspieler sind dort nur Reus, Hummels und Schmelzer. Die Spieler sind richtig lustlos auf dem Platz. Hummels ist laut Rolf eher ein Führungsspieler. Weigl als Innenverteidiger kann null verteidigen und Schmelzer ist langsam und hat schon richtig schlecht gespielt. Schulz wäre noch ein Zukunftspieler mit Potenzial. Bayern kauft in der Liga einfach alles, wenn die mal nicht auf der 1 sind. Die Zukunft von Dortmund ist daher eher schwierig.\", \"Eine Sarah fragt Sven nach einem handgefertigten Holzkunstwerk als Geburtstagsgeschenk für eine ältere Frau. Sven bietet eine Holzplatte aus Eiche an, die er innerhalb kurzer Zeit herstellen kann. Nach Rücksprache entscheidet sich die Person für die Platte, und die Übergabe wird für Samstag organisiert für 20-25 Euro. Im weiteren Verlauf fragt Sarah, wo Sven das Holz herbekommt, Sven bekommt Material von seinem Schwager oder bestellt es im Internet oder bei Hillmann. Sie stimmen sich noch ab für das Abholen da Sarah noch zum DM muss und Sven einen Mittagschlag machen möchte. Einen Monat später fragt Sarah, ob Sven noch etwas zum Verkaufen hat, da Sie auf einem Weihnachtsmarkt für insgesamt 7 Tage am Verkaufen ist. Nach erneuter Nachfrage von Sarah ist Sven aber krank und kann nichts mehr machen. Er hat eine Anal Thrombose laut Arzt eine einer Sportverletzung, was beide sehr komisch finden.\", \"Lara wünscht Miriam alles Gute zum Geburtstag, und schlägt vor das Sie vor Weihnachten noch was zusammen unternehmen könnten. Miriam bedankt sich und finde die Idee toll. Sie tauschen sich über die Mutter von Miriam aus, ob Sie wieder zuhause ist und wie es ihr mittlerweile geht. Falls es am 21.Dezember nicht wird schlägt Lara den 22.Dezember vor, wo vielleicht auch laut Miriam Nico hier ist und mitkommen würde. Am 22.Dezember schreiben Sie wieder, ob sie heute Abend noch was machen, Miriam könnte gegen 19 Uhr da sie noch was kochen muss. Sie wollen auf den Weihnachtsmarkt gehen, nach Absprache wer fährt einigen Sie sich das sie beide fahren da sie beide nichts trinken möchten. Da Miriam früher gekocht hat einigen Sie sich auf 18 Uhr auf dem Rossmann Kassenautomaten da andere Parkplätze aktuell abgesperrt sind.\"]\n",
    "counter = 0\n",
    "for element in reference_summary:\n",
    "    reference_summary[counter] = reference_summary[counter].lower()\n",
    "    counter += 1\n",
    "\n",
    "sort_reference_summary = []\n",
    "\n",
    "for element in reference_summary:\n",
    "    new = []\n",
    "    zwischenspeicher = element.strip().split()\n",
    "    for word in zwischenspeicher:\n",
    "        if word not in german_stopwords:\n",
    "            new.append(word)  \n",
    "    sort_reference_summary.append(\" \".join(new))  \n",
    "\n",
    "print(sort_reference_summary)\n",
    "print(len(reference_summary))\n",
    "print(reference_summary)"
   ]
  },
  {
   "cell_type": "code",
   "execution_count": 4,
   "id": "e6514fab",
   "metadata": {},
   "outputs": [
    {
     "name": "stdout",
     "output_type": "stream",
     "text": [
      "['rita stefanie unterhalten kunstwerke, stefanie erstellt. rita lobt bild stefanie, erklärt, dafür mühe gegeben habe, obwohl schlechtem licht fotografiert wurde. später fragt rita, stefanie kinderzimmer lisas tochter giraffe elefanten malen könnte. stefanie sagt begeistert schlägt vor, bilder a4-papier zeichnen. möchte dafür geld, hobby ist. rita bedankt herzlich betont, eile gibt. anfang mai schickt stefanie bild gemalten elefanten, rita begeistert perfekt beschreibt.', 'jennifer schreibt bernd mitten nacht erzählt ihm, gerade tun hat, schule mehr klausuren beendet sind. verbringt zeit tanzen, lesen aktivitäten, ständig zusammen sein. bernd berichtet, job gut bezahlt ist, arbeit simpel ist, musik hören kann, genießt. beide bestätigen, beziehungen gut läuft. später fragt bernd jennifers plänen abitur. unsicher, ansprechpartnerin australien-pläne antwortet. stattdessen plant sie, deutschen flugsicherung bewerben, wofür bernd erfolg wünscht.', 'bert rolf diskutieren kritisch aktuelle situation borussia dortmund jahr 2019. bert schlägt vor, trainer entlassen, rolf zustimmt, favre mannschaft meinung weiterbringt. kritisieren platzierung schalke tabelle bemängeln fehlenden führungsspieler, wobei bert reus verteidigt, rolf hummels besseren anführer sieht. beide einig, dortmund saison viele enttäuschende leistungen gezeigt hat, insbesondere defensive, äußern skepsis gegenüber spielern weigl schulz. bert hält favre bewährungsfähig, rolf überzeugt, bald entlassen wird, außer gelingt großer sieg barcelona. diskussion humorvollen sticheleien kritik vereinen bayern münchen aufgelockert.', 'sarah fragt sven, holzkunstwerken kleines ältere frau geburtstagsgeschenk hat. sven bietet an, fertigen, zeigt bilder arbeiten nennt preise. sarah entscheidet eichenholzscheibe, sven rechtzeitig fertigstellt. klären details abholung, samstag 15 uhr vereinbart wird. später fragt sarah, sven holz bezieht, sven erklärt, bauernhof, internet lokalen händler bekommt. dezember schlägt sarah vor, svens werken weihnachtsmarkt verkaufen, sven zusagt. später weitere holzarbeit bittet, erklärt sven, krank arbeiten kann, schmerzhaften analthrombose operation erholt. sarahs erstaunte nachfrage berichtet sven, verletzung sportbedingt sei, beide schmunzeln bringt.', 'lara gratuliert miriam liebevoll geburtstag hofft, weihnachten treffen. erkundigt miriams mutter, hause ist, langsam erholt. beide verabreden schließlich 22.12., gemeinsam zeit verbringen, zuerst weihnachtsmarkt eventuell später ort. miriam bietet an, lara abzuholen, lara entscheidet, fahren. absprachen zeit treffpunkt sich, 18 uhr brunnen treffen auto großen parkhaus abzustellen. ende bestätigen beide vorfreude treffen finden pünktlich ort ein.']\n"
     ]
    }
   ],
   "source": [
    "\n",
    "generated_summary_prompt1_4o = [\"Rita und Stefanie unterhalten sich über Kunstwerke, die Stefanie erstellt. Rita lobt ein Bild von Stefanie, die erklärt, dass sie sich dafür viel Mühe gegeben habe, obwohl es bei schlechtem Licht fotografiert wurde. Später fragt Rita, ob Stefanie für das Kinderzimmer von Lisas Tochter eine Giraffe und einen Elefanten malen könnte. Stefanie sagt begeistert zu und schlägt vor, die Bilder auf A4-Papier zu zeichnen. Sie möchte dafür kein Geld, da es ihr Hobby ist. Rita bedankt sich herzlich und betont, dass es keine Eile gibt. Anfang Mai schickt Stefanie ein Bild von einem gemalten Elefanten, das Rita begeistert als perfekt beschreibt.\", \"Jennifer schreibt Bernd mitten in der Nacht an und erzählt ihm, dass sie gerade nichts zu tun hat, da sie keine Schule mehr hat und ihre Klausuren beendet sind. Sie verbringt ihre Zeit mit Tanzen, Lesen und anderen Aktivitäten, will aber nicht ständig mit anderen zusammen sein. Bernd berichtet, dass sein Job gut bezahlt ist, auch wenn die Arbeit simpel ist, und dass er Musik hören kann, was er genießt. Beide bestätigen, dass es in ihren Beziehungen gut läuft. Später fragt Bernd nach Jennifers Plänen nach dem Abitur. Sie ist unsicher, da ihre Ansprechpartnerin für ihre Australien-Pläne nicht antwortet. Stattdessen plant sie, sich bei der Deutschen Flugsicherung zu bewerben, wofür Bernd ihr viel Erfolg wünscht.\", \"   Bert und Rolf diskutieren kritisch über die aktuelle Situation von Borussia Dortmund im Jahr 2019. Bert schlägt vor, den Trainer zu entlassen, während Rolf zustimmt, da Favre die Mannschaft seiner Meinung nach nicht weiterbringt. Sie kritisieren die Platzierung hinter Schalke in der Tabelle und bemängeln die fehlenden Führungsspieler, wobei Bert Reus verteidigt, während Rolf Hummels als besseren Anführer sieht. Beide sind sich einig, dass Dortmund in dieser Saison viele enttäuschende Leistungen gezeigt hat, insbesondere in der Defensive, und äußern Skepsis gegenüber Spielern wie Weigl und Schulz. Bert hält Favre für noch bewährungsfähig, aber Rolf ist überzeugt, dass er bald entlassen wird, außer es gelingt ein großer Sieg gegen Barcelona. Die Diskussion wird mit humorvollen Sticheleien und Kritik an anderen Vereinen wie Bayern München aufgelockert.\", \"Sarah fragt Sven, ob er unter seinen Holzkunstwerken etwas Kleines für eine ältere Frau als Geburtstagsgeschenk hat. Sven bietet an, etwas zu fertigen, zeigt Bilder seiner Arbeiten und nennt Preise. Sarah entscheidet sich für eine Eichenholzscheibe, die Sven rechtzeitig fertigstellt. Sie klären Details zur Abholung, die am Samstag um 15 Uhr vereinbart wird. Später fragt Sarah, wo Sven sein Holz bezieht, und Sven erklärt, dass er es von einem Bauernhof, aus dem Internet oder von einem lokalen Händler bekommt. Im Dezember schlägt Sarah vor, einige von Svens Werken auf einem Weihnachtsmarkt zu verkaufen, was Sven zusagt. Als sie später um eine weitere Holzarbeit bittet, erklärt Sven, dass er krank ist und nicht arbeiten kann, da er sich von einer schmerzhaften Analthrombose und einer Operation erholt. Auf Sarahs erstaunte Nachfrage hin berichtet Sven, dass die Verletzung sportbedingt sei, was beide zum Schmunzeln bringt.\", \"Lara gratuliert Miriam liebevoll zum Geburtstag und hofft, sie vor Weihnachten zu treffen. Sie erkundigt sich nach Miriams Mutter, die zu Hause ist, sich aber nur langsam erholt. Beide verabreden sich schließlich für den 22.12., um gemeinsam Zeit zu verbringen, zuerst auf dem Weihnachtsmarkt und eventuell später an einem anderen Ort. Miriam bietet an, Lara abzuholen, doch Lara entscheidet, selbst zu fahren. Nach einigen Absprachen über die Zeit und den Treffpunkt einigen sie sich, sich um 18 Uhr am Brunnen zu treffen und das Auto im großen Parkhaus abzustellen. Am Ende bestätigen beide ihre Vorfreude auf das Treffen und finden sich pünktlich vor Ort ein.\"]       \n",
    "counter = 0\n",
    "for element in generated_summary_prompt1_4o:\n",
    "    generated_summary_prompt1_4o[counter] = generated_summary_prompt1_4o[counter].lower()\n",
    "    counter += 1\n",
    "\n",
    "sort_generated_summary_prompt1_4o = []\n",
    "\n",
    "for element in generated_summary_prompt1_4o:\n",
    "    new = []\n",
    "    zwischenspeicher = element.strip().split()\n",
    "    for word in zwischenspeicher:\n",
    "        if word not in german_stopwords: \n",
    "            new.append(word)  \n",
    "    sort_generated_summary_prompt1_4o.append(\" \".join(new)) \n",
    "\n",
    "print(sort_generated_summary_prompt1_4o)\n",
    "#print(len(reference_summary))"
   ]
  },
  {
   "cell_type": "code",
   "execution_count": 5,
   "id": "623bca7e",
   "metadata": {},
   "outputs": [
    {
     "name": "stdout",
     "output_type": "stream",
     "text": [
      "['11. april 2018 schrieb rita, echt total gut finde, stefanie freundlichen dankeschön bemerkung, mühe gegeben, erwiderte. stefanie erwähnte jedoch, licht aufnahme optimal sei. 13. april 2018 fragte rita stefanie, lisas kinderzimmer giraffe elefanten malen könnte, blickfang lisas bett aufgehängt sollten. stefanie begeistert bot an, bilder gerne malen. schlug vor, a4-format verwenden, gerade neues papier gekauft bald neue stifte habe. frage, stefanie arbeit verlangen würde, betonte sie, nehme, hobby sei. stefanie erklärte außerdem, wochenende zeit habe, bilder jedoch nächsten woche beginnen könnte, rita vollkommen ordnung war. sagte, zwei drei wochen reichen würden, bedankte herzlich. 5. mai 2018 schickte stefanie bild kleinen, fröhlichen elefanten, wiese hüpfte, fragte, rita gefalle. rita antwortete begeistert, perfekt sei.', 'jennifer schreibt bernd spät nacht beginnt unterhaltung lockeren grüßen nachfragen, geht. erwähnt, abgeschlossenen klausuren ende schulzeit freizeit hat, lesen tanzen füllt. außerdem plant sie, tanzhose kaufen. bernd schlägt vor, unternehmen könnte, humorvoll kommentiert. betont jedoch, genießt, ständig zusammen sein. weiteren verlauf fragt jennifer bernds uni- arbeitssituation. berichtet büroarbeit, eintönig, gut bezahlt hören musik erlaubt. jennifer erkundigt bernds beziehung, bestätigt, gut läuft. jennifer freut darüber erwähnt, ordnung ist. gespräch dreht schließlich unileben, bernd genießt, spaß macht, zeit lässt dabei lernen kann. später fragt bernd jennifers plänen abitur. jennifer gesteht, momentan unsicher früheren pläne aufenthalt australien stocken geraten sind, ansprechpartnerin mehr reagiert. stattdessen plant sie, deutschen flugsicherung bewerben. bernd wünscht erfolg, worauf bedankt.', 'gespräch diskutieren bert rolf kritisch leistung borussia dortmund trainer lucien favre. bert schlägt vor, dortmund trainer entlassen könnte, rolf unterstützt, favre geeignet hält, mannschaft weiterzubringen. einig, favre guter trainer sei, richtige meisterschafts- champions-league-erfolge. bert verteidigt favre teilweise, betont, spieler marco reus aufgeblüht sind, dortmunds tabellenplatz schalke beide großes problem darstellt. rolf kritisiert reus kapitän nennt hummels besseren führungsspieler, schmelzer fast ruhestand sieht. bert widerspricht meint, reus sei neben hummels schmelzer wenigen führungsspieler team. beide einig, mannschaft einsatz kampfgeist mangelt. sprechen außerdem taktischen probleme, etwa schwache defensive entscheidung, spieler julian weigl ungeeigneten positionen einzusetzen. rolf hält unausweichlich, favre bald entlassen wird, sei denn, mannschaft schaffe außergewöhnliche leistung, hohen sieg fc barcelona. bert bleibt skeptisch verteidigt favres arbeit, glaubt ebenfalls, situation schwierig ist. beide äußern zudem spieler nico schulz marcel schmelzer: rolf schulz zukunft sieht, bert meinung zweifelt, verein voranbringen kann. abschließend kritisieren beide transferpolitik fc bayern münchen, wobei bert meint, bayern hätte zuletzt zurückgehalten. rolf bleibt jedoch überzeugt, favre bald job verlieren wird, unabhängig ausgang spiels barcelona.', '30. oktober 2018 fragte sarah sven, holzkunstwerken kleinigkeit habe, älteren frau geburtstag schenken könnte. sven erkundigte budget zeitpunkt, wann benötigt würde. sarah erklärte, samstagabend bräuchte bat sven, bilder arbeiten schicken, vielleicht mutter weihnachten dabei könnte. sven schlug vor, herzustellen, schnell vorhandenem material machbar wäre, schickte bilder kunstwerke. sarah entschied schließlich holzplatte eiche, sven 20 25 euro anbot. sven versicherte, platte samstag fertigzustellen, einigten übergabe. 1. november informierte sven, platte fast fertig sei geölt müsse. sarah, erst freitagabend rotenburg zurückkommen würde, bestätigte, samstag abzuholen. sven schickte foto fast fertigen produkts zeigte zufrieden werk. sarah fragte svens adresse, abholung planen, klärten details treffpunkt. sven erklärte auch, holz entweder sammle, schwager beziehe online bzw. händler bestelle. 3. november vereinbarten schließlich, sarah platte 15 uhr abholen würde. sven zeigte flexibel hielt produkt vereinbarten zeitpunkt bereit. später, 20. november, schlug sarah vor, sven 2-3 kleine holzarbeiten stand weihnachtsmarkt mitgeben könnte. sven zeigte interesse versprach, daran erinnern. 16. dezember fragte sarah, sven freitag platte schale anfertigen könne. sven jedoch absagen, krank aufgrund analthrombose, operiert musste, lange stehen konnte. sarah zeigte mitgefühl, erkundigte ursachen, sven erklärte, arzt sportverletzung eingestuft habe, beide schmunzeln brachte.', 'lara wünscht miriam morgen 2. dezembers liebevoll gute geburtstag hofft, bald gemeinsam unternehmen können. miriam bedankt stimmt zu, schön wäre. lara fragt anschließend zustand miriams mutter, woraufhin miriam erklärt, mutter hause ist, genesung zeit braucht. lara hofft, weihnachtszeit erholen kann. 14. dezember planen beiden, entweder 21. 22. dezember treffen, wobei miriam erwähnt, nico eventuell dabei könnte, lara jedoch problem findet. halten plan schließlich fest. 22. dezember fragt lara miriams mutter, inzwischen besser fühlt, schlägt treffen vor. miriam stimmt zu, obwohl erst ab 19 uhr zeit hat, kochen muss. entscheiden sich, weihnachtsmarkt gehen eventuell später trinken. beim weiteren austausch stellt heraus, beide trinken möchten miriam anbietet, lara abzuholen, lara jedoch ablehnt, fahren will. beiden beschließen schließlich, bereits 18 uhr brunnen treffen. lara miriam klären abschließend, parken parkhaus treffen. zeitpunkt kommt, melden beide, angekommen sind, freuen treffen.']\n"
     ]
    }
   ],
   "source": [
    "\n",
    "generated_summary_prompt2_4o =[\"Am 11. April 2018 schrieb Rita, dass sie etwas echt total gut finde, was Stefanie mit einem freundlichen Dankeschön und der Bemerkung, sie habe sich viel Mühe gegeben, erwiderte. Stefanie erwähnte jedoch, dass das Licht für die Aufnahme nicht optimal gewesen sei. Am 13. April 2018 fragte Rita Stefanie, ob sie für Lisas Kinderzimmer eine Giraffe und einen Elefanten malen könnte, die dann als Blickfang über Lisas Bett aufgehängt werden sollten. Stefanie war begeistert und bot an, die Bilder gerne zu malen. Sie schlug vor, A4-Format zu verwenden, da sie gerade neues Papier gekauft und bald neue Stifte habe. Auf die Frage, was Stefanie für ihre Arbeit verlangen würde, betonte sie, dass sie nichts nehme, da es ihr Hobby sei. Stefanie erklärte außerdem, dass sie an diesem Wochenende keine Zeit habe, die Bilder jedoch in der nächsten Woche beginnen könnte, was für Rita vollkommen in Ordnung war. Sie sagte, dass auch zwei oder drei Wochen reichen würden, und bedankte sich herzlich. Am 5. Mai 2018 schickte Stefanie ein Bild von einem kleinen, fröhlichen Elefanten, der über eine Wiese hüpfte, und fragte, ob es Rita gefalle. Rita antwortete begeistert, dass es perfekt sei.\", \"Jennifer schreibt Bernd spät in der Nacht an und beginnt die Unterhaltung mit lockeren Grüßen und Nachfragen, wie es ihm geht. Sie erwähnt, dass sie nach den abgeschlossenen Klausuren und dem Ende der Schulzeit viel Freizeit hat, die sie mit Lesen und Tanzen füllt. Außerdem plant sie, eine Tanzhose zu kaufen. Bernd schlägt vor, dass sie etwas unternehmen könnte, was sie humorvoll kommentiert. Sie betont jedoch, dass sie es auch genießt, nicht ständig mit anderen zusammen zu sein. Im weiteren Verlauf fragt Jennifer nach Bernds Uni- und Arbeitssituation. Er berichtet von seiner Büroarbeit, die zwar eintönig, aber gut bezahlt ist und ihm das Hören von Musik erlaubt. Jennifer erkundigt sich dann nach Bernds Beziehung, und er bestätigt, dass alles gut läuft. Jennifer freut sich darüber und erwähnt, dass auch bei ihr alles in Ordnung ist. Das Gespräch dreht sich schließlich um das Unileben, das Bernd sehr genießt, da es ihm Spaß macht, viel Zeit lässt und er dabei viel lernen kann. Später fragt Bernd nach Jennifers Plänen nach dem Abitur. Jennifer gesteht, dass sie momentan unsicher ist und ihre früheren Pläne für einen Aufenthalt in Australien ins Stocken geraten sind, weil ihre Ansprechpartnerin nicht mehr reagiert. Stattdessen plant sie, sich bei der Deutschen Flugsicherung zu bewerben. Bernd wünscht ihr viel Erfolg, worauf sie sich bedankt.\", \"In ihrem Gespräch diskutieren Bert und Rolf kritisch über die Leistung von Borussia Dortmund und ihren Trainer Lucien Favre. Bert schlägt vor, dass Dortmund den Trainer entlassen könnte, was Rolf unterstützt, da er Favre für nicht geeignet hält, die Mannschaft weiterzubringen. Sie sind sich einig, dass Favre zwar ein guter Trainer sei, aber nicht der Richtige für Meisterschafts- oder Champions-League-Erfolge. Bert verteidigt Favre teilweise, indem er betont, dass Spieler wie Marco Reus unter ihm aufgeblüht sind, auch wenn Dortmunds Tabellenplatz hinter Schalke für beide ein großes Problem darstellt. Rolf kritisiert Reus als Kapitän und nennt Hummels den besseren Führungsspieler, während er Schmelzer als fast im Ruhestand sieht. Bert widerspricht und meint, Reus sei neben Hummels und Schmelzer einer der wenigen Führungsspieler im Team. Beide sind sich einig, dass es der Mannschaft an Einsatz und Kampfgeist mangelt. Sie sprechen außerdem über die taktischen Probleme, etwa die schwache Defensive und die Entscheidung, Spieler wie Julian Weigl auf ungeeigneten Positionen einzusetzen. Rolf hält es für unausweichlich, dass Favre bald entlassen wird, es sei denn, die Mannschaft schaffe eine außergewöhnliche Leistung, wie einen hohen Sieg gegen den FC Barcelona. Bert bleibt skeptisch und verteidigt Favres Arbeit, glaubt aber ebenfalls, dass die Situation schwierig ist. Beide äußern sich zudem über Spieler wie Nico Schulz und Marcel Schmelzer: Während Rolf Schulz als die Zukunft sieht, ist Bert anderer Meinung und zweifelt, ob er den Verein voranbringen kann. Abschließend kritisieren beide die Transferpolitik des FC Bayern München, wobei Bert meint, Bayern hätte sich zuletzt zurückgehalten. Rolf bleibt jedoch überzeugt, dass Favre bald seinen Job verlieren wird, unabhängig vom Ausgang des Spiels gegen Barcelona.\", \"Am 30. Oktober 2018 fragte Sarah Sven, ob er unter seinen Holzkunstwerken eine Kleinigkeit habe, die sie einer älteren Frau zum Geburtstag schenken könnte. Sven erkundigte sich nach dem Budget und dem Zeitpunkt, bis wann es benötigt würde. Sarah erklärte, dass sie es bis Samstagabend bräuchte und bat Sven, Bilder von seinen Arbeiten zu schicken, da vielleicht auch etwas für ihre Mutter zu Weihnachten dabei sein könnte. Sven schlug vor, etwas herzustellen, das schnell und mit vorhandenem Material machbar wäre, und schickte Bilder seiner Kunstwerke. Sarah entschied sich schließlich für eine Holzplatte aus Eiche, die Sven für 20 bis 25 Euro anbot. Sven versicherte, die Platte bis Samstag fertigzustellen, und sie einigten sich auf die Übergabe. Am 1. November informierte Sven, dass die Platte fast fertig sei und nur noch geölt werden müsse. Sarah, die erst am Freitagabend nach Rotenburg zurückkommen würde, bestätigte, sie am Samstag abzuholen. Sven schickte ein Foto des fast fertigen Produkts und zeigte sich zufrieden mit seinem Werk. Sarah fragte nach Svens Adresse, um die Abholung zu planen, und sie klärten die Details für den Treffpunkt. Sven erklärte auch, dass er das Holz entweder selbst sammle, von seinem Schwager beziehe oder online bzw. bei einem Händler bestelle. Am 3. November vereinbarten sie schließlich, dass Sarah die Platte gegen 15 Uhr abholen würde. Sven zeigte sich flexibel und hielt das Produkt für den vereinbarten Zeitpunkt bereit. Später, am 20. November, schlug Sarah vor, dass Sven ihr 2-3 kleine Holzarbeiten für ihren Stand auf einem Weihnachtsmarkt mitgeben könnte. Sven zeigte Interesse und versprach, sich daran zu erinnern. Am 16. Dezember fragte Sarah, ob Sven bis Freitag noch eine Platte oder Schale anfertigen könne. Sven musste jedoch absagen, da er krank war und aufgrund einer Analthrombose, die operiert werden musste, nicht lange stehen konnte. Sarah zeigte Mitgefühl, erkundigte sich nach den Ursachen, und Sven erklärte, dass sein Arzt dies als Sportverletzung eingestuft habe, was beide zum Schmunzeln brachte.\", \"Lara wünscht Miriam am Morgen des 2. Dezembers liebevoll alles Gute zum Geburtstag und hofft, dass sie bald gemeinsam etwas unternehmen können. Miriam bedankt sich und stimmt zu, dass das schön wäre. Lara fragt anschließend nach dem Zustand von Miriams Mutter, woraufhin Miriam erklärt, dass ihre Mutter zwar zu Hause ist, die Genesung aber Zeit braucht. Lara hofft, dass sie sich in der Weihnachtszeit etwas erholen kann. Am 14. Dezember planen die beiden, sich entweder am 21. oder 22. Dezember zu treffen, wobei Miriam erwähnt, dass Nico eventuell dabei sein könnte, was Lara jedoch kein Problem findet. Sie halten den Plan schließlich fest. Am 22. Dezember fragt Lara nach Miriams Mutter, die sich inzwischen etwas besser fühlt, und schlägt ein Treffen vor. Miriam stimmt zu, obwohl sie erst ab 19 Uhr Zeit hat, da sie kochen muss. Sie entscheiden sich, auf den Weihnachtsmarkt zu gehen und eventuell später noch etwas trinken. Beim weiteren Austausch stellt sich heraus, dass beide nicht trinken möchten und Miriam anbietet, Lara abzuholen, was Lara jedoch ablehnt, da sie selbst fahren will. Die beiden beschließen schließlich, sich bereits um 18 Uhr am Brunnen zu treffen. Lara und Miriam klären abschließend, wo sie parken und sich im Parkhaus treffen. Als der Zeitpunkt kommt, melden sich beide, dass sie angekommen sind, und freuen sich auf ihr Treffen.\"]\n",
    "counter = 0\n",
    "for element in generated_summary_prompt2_4o:\n",
    "    generated_summary_prompt2_4o[counter] = generated_summary_prompt2_4o[counter].lower()\n",
    "    counter += 1\n",
    "\n",
    "sort_generated_summary_prompt2_4o = []\n",
    "\n",
    "for element in generated_summary_prompt2_4o:\n",
    "    new = []\n",
    "    zwischenspeicher = element.strip().split()\n",
    "    for word in zwischenspeicher:\n",
    "        if word not in german_stopwords: \n",
    "            new.append(word)  \n",
    "    sort_generated_summary_prompt2_4o.append(\" \".join(new))  \n",
    "\n",
    "print(sort_generated_summary_prompt2_4o)\n",
    "#print(len(reference_summary))"
   ]
  },
  {
   "cell_type": "code",
   "execution_count": 6,
   "id": "492f194b",
   "metadata": {},
   "outputs": [
    {
     "name": "stdout",
     "output_type": "stream",
     "text": [
      "['11. april 2018 tauschten rita stefanie zunächst werk stefanie aus. rita äußerte, beeindruckt davon war, schrieb, total gut aussieht. stefanie bedankte kompliment erklärte, mühe werk investiert habe, bedauerte jedoch, foto schlechtem licht aufgenommen wurde. 13. april wandte rita erneut stefanie fragte, bereit wäre, lisas kinderzimmer giraffe elefanten malen, bilder blickfang aufzuhängen. stefanie sofort einverstanden erkundigte gewünschten format erneut rahmen besorgen solle. rita erklärte, bilder größer könnten vorherigen bat stefanie, preis nennen. stefanie lehnte jedoch ab, zeichnen hobby sei bezahlung dafür nehmen wolle. schlug vor, bilder a4 gestalten erklärte, projekt nächsten woche beginnen würde, wochenende möglich sei. rita zeigte dankbar betonte, zeitdruck bestehe zwei drei wochen vollkommen ausreichen würden. 5. mai schickte stefanie bild fröhlich wiese hüpfenden elefanten, fertiggestellt hatte. fragte, bild gefällt, worauf rita begeistert perfekt reagierte.', 'jennifer schreibt bernd mitten nacht begrüßt fröhlich heyyyyy naaaaa. kurzer verzögerung antwortet bernd ebenfalls gut gelaunt. jennifer erzählt, gut geht, gerade tun hat, schule mehr klausuren gebracht hat. bernd schlägt vor, solle unternehmen, woraufhin jennifer erwähnt, später hose tanzen kaufen möchte tag schon tanzen war. außerdem berichtet sie, derzeit viele bücher liest regelrecht verschlingt. bernd fragt, niemand zeit habe. jennifer erklärt, schon leute zeit hätten, mag, ständig jemanden hocken. wechselt thema fragt bernd, uni job läuft. bernd berichtet, job einfache büroarbeit sei, gut bezahlt dabei musik hören dürfe, spaß mache. jennifer freut erkundigt sich, freundin gut sei. bernd bestätigt fragt zurück, jennifer aussieht, woraufhin ebenfalls berichtet, gut sei. gespräch geht weiter, jennifer fragt, neues gibt. bernd erzählt, unileben genießt, spaß macht zeit habe. später fügt hinzu, uni lernen könne. jennifer glaubt das, bleibt jedoch skeptisch. ende chats fragt bernd, jennifers pläne zeit abitur unverändert seien. jennifer erklärt, zukunftspläne derzeit unklar seien. bernds nachfrage australien-plänen antwortet sie, ansprechpartnerin mehr antworte unterstützung weitermachen könne. stattdessen plant sie, deutschen flugsicherung bewerben, woraufhin bernd erfolg wünscht. jennifer bedankt abschließend ihm.', 'gespräch diskutieren bert rolf aktuelle situation borussia dortmund november 2019 äußern deutliche kritik trainer lucien favre sowie verschiedenen spielern vereins. bert bringt vorschlag spiel, verein trainer entlassen sollte, rolf befürwortet. beide einig, favre mannschaft mehr weiterbringt, besonders dortmund schalke tabelle steht. rolf betont, angesichts qualität kaders unakzeptabel sei favre trainer titel champions-league-erfolge sei. dennoch erkennt bert an, favre vergangenheit gute arbeit geleistet habe, insbesondere entwicklung marco reus. derzeitige leistungsniveau sei enttäuschend. rolf zweifelt führungsqualitäten marco reus kapitän sieht mats hummels rolle geeigneter. schmelzer, weiterer erfahrener spieler, bert verteidigt, rolf aufgrund alters fehlender schnelligkeit kritisch sieht. probleme defensive gesprochen: bert kritisiert einsatz julian weigl innenverteidiger, weder physisch defensiv stark genug sei. gespräch streift generelle kritik spielern nico schulz, rolf zukunft sieht, worüber bert lachen kann. rolf wünscht stattdessen spieler jonas hector. beide kommentieren umgang bayern münchen trainern spielern, wobei feststellen, bayern traditionell aggressiv transfermarkt agieren, erster sind. abschließend meint bert, favre trotz zeit bekommen sollte, wobei rolf überzeugt ist, favres zeit beim verein ohnehin bald abgelaufen sei – sei denn, liefere außergewöhnliche ergebnisse, deutliches 5:0 fc barcelona. insgesamt beide enttäuscht aktuellen saison skeptisch, besserung sicht ist.', '30. oktober 2018 erkundigte sarah sven, holzkunstwerken kleine, passende geschenkidee ältere frau hätte. sven fragte budget frist, woraufhin sarah erklärte, benötige geschenk samstagabend wolle betrag til besprechen. sven bot an, werke zeigen erklärte, gegebenenfalls anfertigen könne, je verfügbarer zeit materialien. schickte bilder holzschnitzereien, darunter baumscheibe eiche, 20 25 euro kosten würde, sowie kleinere stücke jeweils 15 euro. sarah zeigte interesse baumscheibe, überlegen, kerzenständer ebenfalls infrage käme. kurzem überlegen entschied sarah baumscheibe, sven versprach, rechtzeitig fertigzustellen. vereinbarten übergabe samstag. sven hielt sarah regelmäßig fortschritt laufenden, schickte bild fertigen produkts versicherte, zufrieden arbeit sei. 3. november holte sarah baumscheibe ab, nachdem sven genaue uhrzeit abgestimmt hatten. später, 20. november, bot sarah sven an, kleine holzwerke weihnachtsmarkt produzieren, verkaufen würde. sven stimmte idee zu, äußerte jedoch weiteren pläne. 16. dezember fragte sarah erneut an, sven kurzfristig platte schale freitag herstellen könnte. sven jedoch absagen, gesundheitlich angeschlagen war. erklärte, wegen analthrombose operiert wurde lange stehen könne. sarah reagierte verständnisvoll, fragte ursachen zeigte überrascht, sven meinte, sei vermutlich sportverletzung, obwohl schwer vorstellen konnte. beide lachten schließlich ironische bemerkung.', 'lara beginnt austausch, miriam 2. dezember herzlich geburtstag gratuliert hofft, weihnachten treffen können. miriam bedankt stimmt idee zu. anschließend erkundigt lara gesundheitszustand miriams mutter. miriam erklärt, mutter inzwischen hause ist, heilungsprozess länger hinziehen könnte. lara wünscht, mutter weihnachtszeit erholen kann. 14. dezember besprechen beiden mögliche treffen. lara schlägt vor, 21. 22. dezember sehen, falls erste termin klappt. miriam erwähnt, partner nico möglicherweise dabei ist, lara völlig ordnung ist. 22. dezember bleiben flexibel. 22. dezember erkundigt lara erneut miriams mutter, inzwischen besser fühlt. miriam schlägt treffen 19 uhr vor, kochen muss, später tag zeit hat. beide darauf, zunächst weihnachtsmarkt treffen weiteren verlauf abends offen lassen. beiden diskutieren, treffpunkt kommen. miriam bietet an, lara abzuholen, lara entscheidet sich, fahren. schließlich legen treffpunkt beim brunnen fest, planen, parkhaus parken, klären letzte details. freuen beide treffen, 18 uhr stattfinden soll. konversation endet hinweis, beide treffpunkt angekommen sind.']\n"
     ]
    }
   ],
   "source": [
    "\n",
    "generated_summary_prompt3_4o = [\"Am 11. April 2018 tauschten sich Rita und Stefanie zunächst über ein Werk von Stefanie aus. Rita äußerte, wie beeindruckt sie davon war, indem sie schrieb, dass es total gut aussieht. Stefanie bedankte sich für das Kompliment und erklärte, dass sie viel Mühe in das Werk investiert habe, bedauerte jedoch, dass das Foto bei schlechtem Licht aufgenommen wurde. Am 13. April wandte sich Rita erneut an Stefanie und fragte, ob sie bereit wäre, für Lisas Kinderzimmer eine Giraffe und einen Elefanten zu malen, um die Bilder dort als Blickfang aufzuhängen. Stefanie war sofort einverstanden und erkundigte sich nach dem gewünschten Format und ob sie erneut Rahmen besorgen solle. Rita erklärte, dass die Bilder größer sein könnten als die vorherigen und bat Stefanie, ihren Preis zu nennen. Stefanie lehnte jedoch ab, da das Zeichnen für sie ein Hobby sei und sie keine Bezahlung dafür nehmen wolle. Sie schlug vor, die Bilder auf A4 zu gestalten und erklärte, dass sie das Projekt in der nächsten Woche beginnen würde, da es an diesem Wochenende nicht möglich sei. Rita zeigte sich sehr dankbar und betonte, dass kein Zeitdruck bestehe und auch zwei oder drei Wochen vollkommen ausreichen würden. Am 5. Mai schickte Stefanie ein Bild eines fröhlich über eine Wiese hüpfenden Elefanten, das sie fertiggestellt hatte. Sie fragte, ob das Bild gefällt, worauf Rita begeistert mit Perfekt reagierte.\", \"Jennifer schreibt Bernd mitten in der Nacht an und begrüßt ihn fröhlich mit Heyyyyy und Naaaaa. Nach kurzer Verzögerung antwortet Bernd ebenfalls gut gelaunt. Jennifer erzählt, dass es ihr gut geht, sie aber gerade nichts zu tun hat, da sie keine Schule mehr hat und alle Klausuren hinter sich gebracht hat. Bernd schlägt vor, sie solle etwas unternehmen, woraufhin Jennifer erwähnt, dass sie später eine Hose für das Tanzen kaufen möchte und an diesem Tag schon tanzen war. Außerdem berichtet sie, dass sie derzeit viele Bücher liest und diese regelrecht verschlingt. Bernd fragt, ob niemand Zeit für sie habe. Jennifer erklärt, dass zwar schon Leute Zeit hätten, sie es aber nicht mag, ständig auf jemanden zu hocken. Sie wechselt das Thema und fragt Bernd, wie es bei ihm mit der Uni und seinem Job läuft. Bernd berichtet, dass sein Job zwar einfache Büroarbeit sei, aber gut bezahlt werde und er dabei Musik hören dürfe, was ihm Spaß mache. Jennifer freut sich für ihn und erkundigt sich, ob bei ihm und seiner Freundin alles gut sei. Bernd bestätigt dies und fragt zurück, wie es bei Jennifer aussieht, woraufhin sie ebenfalls berichtet, dass alles gut sei. Das Gespräch geht weiter, und Jennifer fragt, was es sonst Neues gibt. Bernd erzählt, dass er das Unileben genießt, da es Spaß macht und er viel Zeit habe. Später fügt er hinzu, dass man an der Uni auch viel lernen könne. Jennifer glaubt ihm das, bleibt jedoch etwas skeptisch. Gegen Ende des Chats fragt Bernd, ob Jennifers Pläne für die Zeit nach dem Abitur unverändert seien. Jennifer erklärt, dass ihre Zukunftspläne derzeit unklar seien. Auf Bernds Nachfrage nach ihren Australien-Plänen antwortet sie, dass ihre Ansprechpartnerin ihr nicht mehr antworte und sie ohne diese Unterstützung nicht weitermachen könne. Stattdessen plant sie, sich bei der Deutschen Flugsicherung zu bewerben, woraufhin Bernd ihr viel Erfolg wünscht. Jennifer bedankt sich abschließend bei ihm.\", \"In ihrem Gespräch diskutieren Bert und Rolf über die aktuelle Situation von Borussia Dortmund im November 2019 und äußern deutliche Kritik an Trainer Lucien Favre sowie an verschiedenen Spielern des Vereins. Bert bringt den Vorschlag ins Spiel, dass der Verein seinen Trainer entlassen sollte, was Rolf befürwortet. Beide sind sich einig, dass Favre die Mannschaft nicht mehr weiterbringt, besonders da Dortmund hinter Schalke in der Tabelle steht. Rolf betont, dass dies angesichts der Qualität des Kaders unakzeptabel sei und Favre kein Trainer für Titel oder Champions-League-Erfolge sei. Dennoch erkennt Bert an, dass Favre in der Vergangenheit gute Arbeit geleistet habe, insbesondere bei der Entwicklung von Marco Reus. Das derzeitige Leistungsniveau sei aber enttäuschend. Rolf zweifelt die Führungsqualitäten von Marco Reus als Kapitän an und sieht Mats Hummels in dieser Rolle geeigneter. Schmelzer, ein weiterer erfahrener Spieler, wird von Bert verteidigt, während Rolf ihn aufgrund seines Alters und fehlender Schnelligkeit kritisch sieht. Auch über die Probleme in der Defensive wird gesprochen: Bert kritisiert den Einsatz von Julian Weigl als Innenverteidiger, da dieser weder physisch noch defensiv stark genug sei. Das Gespräch streift auch die generelle Kritik an Spielern wie Nico Schulz, den Rolf als Zukunft sieht, worüber Bert nur lachen kann. Rolf wünscht sich stattdessen einen Spieler wie Jonas Hector. Beide kommentieren auch den Umgang von Bayern München mit Trainern und Spielern, wobei sie feststellen, dass die Bayern traditionell aggressiv am Transfermarkt agieren, wenn sie nicht Erster sind. Abschließend meint Bert, dass Favre trotz allem noch Zeit bekommen sollte, wobei Rolf überzeugt ist, dass Favres Zeit beim Verein ohnehin bald abgelaufen sei – es sei denn, er liefere außergewöhnliche Ergebnisse, wie ein deutliches 5:0 gegen den FC Barcelona. Insgesamt sind beide enttäuscht von der aktuellen Saison und skeptisch, ob eine Besserung in Sicht ist.\", \"Am 30. Oktober 2018 erkundigte sich Sarah bei Sven, ob er unter seinen Holzkunstwerken eine kleine, passende Geschenkidee für eine ältere Frau hätte. Sven fragte nach Budget und Frist, woraufhin Sarah erklärte, sie benötige das Geschenk bis Samstagabend und wolle den Betrag noch mit Til besprechen. Sven bot an, einige seiner Werke zu zeigen und erklärte, dass er gegebenenfalls etwas anfertigen könne, je nach verfügbarer Zeit und Materialien. Er schickte Bilder von Holzschnitzereien, darunter eine Baumscheibe aus Eiche, die 20 bis 25 Euro kosten würde, sowie kleinere Stücke für jeweils 15 Euro. Sarah zeigte Interesse an der Baumscheibe, wollte aber noch überlegen, ob ein Kerzenständer ebenfalls infrage käme. Nach kurzem Überlegen entschied sich Sarah für die Baumscheibe, und Sven versprach, diese rechtzeitig fertigzustellen. Sie vereinbarten die Übergabe am Samstag. Sven hielt Sarah regelmäßig über den Fortschritt auf dem Laufenden, schickte ein Bild des fertigen Produkts und versicherte, dass er zufrieden mit seiner Arbeit sei. Am 3. November holte Sarah die Baumscheibe ab, nachdem sie und Sven die genaue Uhrzeit abgestimmt hatten. Später, am 20. November, bot Sarah Sven an, einige kleine Holzwerke für einen Weihnachtsmarkt zu produzieren, auf dem sie verkaufen würde. Sven stimmte der Idee zu, äußerte jedoch keine weiteren Pläne. Am 16. Dezember fragte Sarah erneut an, ob Sven kurzfristig eine Platte oder Schale bis Freitag herstellen könnte. Sven musste jedoch absagen, da er gesundheitlich angeschlagen war. Er erklärte, dass er wegen einer Analthrombose operiert wurde und nicht lange stehen könne. Sarah reagierte verständnisvoll, fragte nach den Ursachen und zeigte sich überrascht, als Sven meinte, dies sei vermutlich eine Sportverletzung, obwohl sie sich das bei ihm schwer vorstellen konnte. Beide lachten schließlich über die ironische Bemerkung.\", \"Lara beginnt den Austausch, indem sie Miriam am 2. Dezember herzlich zum Geburtstag gratuliert und hofft, dass sie sich noch vor Weihnachten treffen können. Miriam bedankt sich und stimmt der Idee zu. Anschließend erkundigt sich Lara nach dem Gesundheitszustand von Miriams Mutter. Miriam erklärt, dass ihre Mutter inzwischen zu Hause ist, sich aber der Heilungsprozess länger hinziehen könnte. Lara wünscht, dass ihre Mutter sich während der Weihnachtszeit etwas erholen kann. Am 14. Dezember besprechen die beiden mögliche Treffen. Lara schlägt vor, sich am 21. oder 22. Dezember zu sehen, falls der erste Termin nicht klappt. Miriam erwähnt, dass ihr Partner Nico möglicherweise dabei ist, was für Lara völlig in Ordnung ist. Sie einigen sich auf den 22. Dezember und bleiben flexibel. Am 22. Dezember erkundigt sich Lara erneut nach Miriams Mutter, die sich inzwischen etwas besser fühlt. Miriam schlägt ein Treffen um 19 Uhr vor, da sie noch kochen muss, aber später an diesem Tag Zeit hat. Beide einigen sich darauf, sich zunächst auf dem Weihnachtsmarkt zu treffen und den weiteren Verlauf des Abends offen zu lassen. Die beiden diskutieren, wie sie zum Treffpunkt kommen. Miriam bietet an, Lara abzuholen, aber Lara entscheidet sich, selbst zu fahren. Schließlich legen sie den Treffpunkt beim Brunnen fest, planen, im Parkhaus zu parken, und klären letzte Details. Sie freuen sich beide auf das Treffen, das um 18 Uhr stattfinden soll. Die Konversation endet mit dem Hinweis, dass beide am Treffpunkt angekommen sind.\"]\n",
    "counter = 0\n",
    "for element in generated_summary_prompt3_4o:\n",
    "    generated_summary_prompt3_4o[counter] = generated_summary_prompt3_4o[counter].lower()\n",
    "    counter += 1\n",
    "\n",
    "sort_generated_summary_prompt3_4o = []\n",
    "\n",
    "for element in generated_summary_prompt3_4o:\n",
    "    new = []\n",
    "    zwischenspeicher = element.strip().split()\n",
    "    for word in zwischenspeicher:\n",
    "        if word not in german_stopwords:  \n",
    "            new.append(word)  \n",
    "    sort_generated_summary_prompt3_4o.append(\" \".join(new))  \n",
    "\n",
    "print(sort_generated_summary_prompt3_4o)\n",
    "#print(len(reference_summary))"
   ]
  },
  {
   "cell_type": "code",
   "execution_count": 7,
   "id": "a59dd4cd",
   "metadata": {},
   "outputs": [
    {
     "name": "stdout",
     "output_type": "stream",
     "text": [
      "['rita stefanie unterhalten stefanie gemaltes bild, rita gut gefällt. daraufhin bittet rita stefanie, lisas kinderzimmer bilder giraffe elefanten malen. stefanie erklärt bereit, bilder kostenlos malen schlägt a4-format vor. bittet zeit, erst neue materialien besorgen muss. rita einverstanden bedankt herzlich. stefanie informiert rita schließlich darüber, elefantenbild fertig fragt deren meinung. rita begeistert.', 'jennifer bernd führen lockere unterhaltung frühen morgen. jennifer gerade abitur bestanden genießt freie zeit. geht tanzen, liest plant, neue hose tanzsport kaufen. bernd hingegen studiert arbeitet nebenbei bürojob. zufrieden leben freut flexibilität, studium bietet. jennifer unsicher zukunftspläne. pläne auslandsaufenthalt australien scheinen zerschlagen haben, rückmeldung ansprechpartnerin erhält. stattdessen bewirbt deutschen flugsicherung. bernd unterstützt dabei wünscht erfolg. gespräch zeichnet bild zwei jungen menschen, lebenssituation austauschen. sprechen hobbys, zukunftspläne beziehungen. stimmung freundlich entspannt.', 'bert rolf diskutieren aktuelle sportliche situation borussia dortmund. beide unzufrieden leistung mannschaft kritisieren insbesondere trainer lucien favre. meinung, favre mannschaft weiterbringt verein dortmund geeignet ist. weitere kritikpunkte mangelnde führungskompetenz spielern marco reus, schlechte defensivarbeit mannschaft fehlende durchschlagskraft angriff. beide einig, trainerwechsel unausweichlich ist, sollten ergebnisse schnell besser werden. beiden vergleichen favre trainern bosz kovac kommen schluss, richtigen trainer dortmund sei. hoffen trainerwechsel gespannt, spiel barcelona ausgehen wird. zusätzlich einzelne spieler diskutiert: reus echter führungsspieler angesehen, hummels bessere führungspersönlichkeit eingeschätzt, schmelzer alt langsam betrachtet. schulz zukünftiger stammspieler gesehen, allerdings zweifeln beide talent.', 'sarah möchte sven, holzhandwerker, kleines holzstück geschenk ältere dame erwerben. sven bietet verschiedene optionen an, darunter baumscheibe eiche. baumscheibe besprechen abholung. später erfährt sarah, sven analthrombose operiert musste. zeigen besorgt wünschen gute besserung. sven erwähnt, aufgrund erkrankung derzeit lage ist, weitere holzstücke anzufertigen.', 'lara gratuliert miriam geburtstag beiden freuen darauf, bald wiederzusehen. miriam gibt update gesundheitszustand mutter, langsam verbessert. vereinbaren treffen 22. dezember besprechen details ort zeit.']\n"
     ]
    }
   ],
   "source": [
    "\n",
    "generated_summary_prompt1_gemini = [\"Rita und Stefanie unterhalten sich über ein von Stefanie gemaltes Bild, das Rita sehr gut gefällt. Daraufhin bittet Rita Stefanie, für Lisas Kinderzimmer Bilder von einer Giraffe und einem Elefanten zu malen. Stefanie erklärt sich bereit, die Bilder kostenlos zu malen und schlägt ein A4-Format vor. Sie bittet um etwas Zeit, da sie erst noch neue Materialien besorgen muss. Rita ist damit einverstanden und bedankt sich herzlich. Stefanie informiert Rita schließlich darüber, dass das Elefantenbild fertig ist und fragt nach deren Meinung. Rita ist begeistert.\", \"Jennifer und Bernd führen eine lockere Unterhaltung am frühen Morgen. Jennifer hat gerade ihr Abitur bestanden und genießt die freie Zeit. Sie geht tanzen, liest viel und plant, sich eine neue Hose für den Tanzsport zu kaufen. Bernd hingegen studiert und arbeitet nebenbei in einem Bürojob. Er ist zufrieden mit seinem Leben und freut sich über die Flexibilität, die ihm das Studium bietet. Jennifer ist sich noch unsicher über ihre Zukunftspläne. Ihre Pläne für einen Auslandsaufenthalt in Australien scheinen sich zerschlagen zu haben, da sie keine Rückmeldung von ihrer Ansprechpartnerin erhält. Stattdessen bewirbt sie sich jetzt bei der Deutschen Flugsicherung. Bernd unterstützt sie dabei und wünscht ihr viel Erfolg. Das Gespräch zeichnet ein Bild von zwei jungen Menschen, die sich über ihre Lebenssituation austauschen. Sie sprechen über ihre Hobbys, ihre Zukunftspläne und ihre Beziehungen. Die Stimmung ist freundlich und entspannt.\", \"Bert und Rolf diskutieren über die aktuelle sportliche Situation von Borussia Dortmund. Beide sind unzufrieden mit der Leistung der Mannschaft und kritisieren insbesondere Trainer Lucien Favre. Sie sind der Meinung, dass Favre die Mannschaft nicht weiterbringt und dass er für einen Verein wie Dortmund nicht geeignet ist. Weitere Kritikpunkte sind die mangelnde Führungskompetenz von Spielern wie Marco Reus, die schlechte Defensivarbeit der Mannschaft und die fehlende Durchschlagskraft im Angriff. Beide sind sich einig, dass ein Trainerwechsel unausweichlich ist, sollten die Ergebnisse nicht schnell besser werden. Die beiden vergleichen Favre mit anderen Trainern wie Bosz und Kovac und kommen zu dem Schluss, dass keiner von ihnen die richtigen Trainer für Dortmund gewesen sei. Sie hoffen auf einen Trainerwechsel und sind gespannt, wie das Spiel gegen Barcelona ausgehen wird. Zusätzlich wird über einzelne Spieler diskutiert: Reus wird als kein echter Führungsspieler angesehen, Hummels wird als bessere Führungspersönlichkeit eingeschätzt, und Schmelzer wird als zu alt und langsam betrachtet. Schulz wird als zukünftiger Stammspieler gesehen, allerdings zweifeln beide an seinem Talent.\", \"Sarah möchte von Sven, einem Holzhandwerker, ein kleines Holzstück als Geschenk für eine ältere Dame erwerben. Sven bietet ihr verschiedene Optionen an, darunter eine Baumscheibe aus Eiche. Sie einigen sich auf die Baumscheibe und besprechen die Abholung. Später erfährt Sarah, dass Sven eine Analthrombose hatte und operiert werden musste. Sie zeigen sich besorgt und wünschen ihm gute Besserung. Sven erwähnt, dass er aufgrund seiner Erkrankung derzeit nicht in der Lage ist, weitere Holzstücke anzufertigen.\", \"Lara gratuliert Miriam zum Geburtstag und die beiden freuen sich darauf, sich bald wiederzusehen. Miriam gibt ein Update über den Gesundheitszustand ihrer Mutter, der sich langsam verbessert. Sie vereinbaren ein Treffen am 22. Dezember und besprechen Details wie Ort und Zeit.\"]\n",
    "counter = 0\n",
    "for element in generated_summary_prompt1_gemini:\n",
    "    generated_summary_prompt1_gemini[counter] = generated_summary_prompt1_gemini[counter].lower()\n",
    "    counter += 1\n",
    "\n",
    "sort_generated_summary_prompt1_gemini = []\n",
    "\n",
    "for element in generated_summary_prompt1_gemini:\n",
    "    new = []\n",
    "    zwischenspeicher = element.strip().split()\n",
    "    for word in zwischenspeicher:\n",
    "        if word not in german_stopwords: \n",
    "            new.append(word)  \n",
    "    sort_generated_summary_prompt1_gemini.append(\" \".join(new))  \n",
    "\n",
    "print(sort_generated_summary_prompt1_gemini)\n",
    "#print(len(reference_summary))"
   ]
  },
  {
   "cell_type": "code",
   "execution_count": 8,
   "id": "e45275f5",
   "metadata": {},
   "outputs": [
    {
     "name": "stdout",
     "output_type": "stream",
     "text": [
      "['rita stefanie unterhalten stefanie gemaltes bild. rita begeistert möchte, stefanie bilder giraffe elefanten lisas kinderzimmer malt. stefanie willigt gerne bietet an, bilder größeren format a4 malen. möchte dafür geld, hobby ist. beide darauf, stefanie bilder kommenden wochen fertigstellt. stefanie schickt rita schließlich bild beschreibung gezeichnetes buntes bild kleinen elefanten, fröhlich wiese hüpft rita zufrieden.', 'jennifer bernd führen lockere unterhaltung frühen morgen. jennifer gerade schulzeit abgeschlossen genießt freie zeit. geht tanzen, liest plant, neue hose tanzsport kaufen. bernd hingegen student arbeitet nebenbei bürojob. zufrieden leben freut flexibilität, studium job bieten. beiden tauschen zukunftspläne aus. jennifer unentschlossen, abitur möchte. ursprünglichen pläne, australien gehen, scheinen zerschlagen haben. stattdessen deutschen flugsicherung beworben. bernd hingegen optimistisch genießt studentenleben.', 'beiden gesprächspartner, bert rolf, diskutieren aktuelle sportliche situation borussia dortmund. beide meinung, trainer lucien favre mehr richtige mann bvb ist. gründe führen schlechten ergebnisse, insbesondere niederlage schalke 04 unentschieden vermeintlich schwächeren gegner, an. bemängeln fehlende weiterentwicklung mannschaft favre kritisieren taktische entscheidungen. weiterer kritikpunkt fehlende führung mannschaft. beide ansicht, marco reus geeignete kapitän spieler mats hummels eher führungsrolle übernehmen sollten. leistungen spieler marcel schmelzer axel witsel angezweifelt. beiden einig, trainerwechsel unausweichlich ist, sofern ergebnisse schnell verbessern. hoffen neuen trainer, mannschaft kurs bringt erfolgreich macht.', 'sarah möchte sven, holzhandwerker, kleines holzstück geschenk ältere dame erwerben. sven bietet verschiedene optionen an, darunter baumscheibe eiche. baumscheibe besprechen übergabe. später erkundigt sarah herkunft holzes sven erklärt, teilweise sammelt teilweise kauft. gibt organisatorische details bezüglich abholung scheibe. sven zunächst krankgeschrieben aufgrund analthrombose, versichert sarah aber, scheibe fertiggestellt hat. ende konversation geht mögliche weitere bestellung sarah weihnachtsmarktstand. sven jedoch aufgrund erkrankung zunächst verhindert.', 'lara gratuliert miriam geburtstag beiden freuen darauf, bald wiederzusehen. miriam informiert lara gesundheitszustand mutter, langsam verbessert. vereinbaren treffen 22. dezember besprechen details zeit ort. beide aufgeregt freuen gemeinsame beisammensein.']\n"
     ]
    }
   ],
   "source": [
    "\n",
    "generated_summary_prompt2_gemini = [\"Rita und Stefanie unterhalten sich über ein von Stefanie gemaltes Bild. Rita ist begeistert und möchte, dass Stefanie auch Bilder von einer Giraffe und einem Elefanten für Lisas Kinderzimmer malt. Stefanie willigt gerne ein und bietet an, die Bilder im größeren Format A4 zu malen. Sie möchte dafür kein Geld, da es ihr Hobby ist. Beide einigen sich darauf, dass Stefanie die Bilder in den kommenden Wochen fertigstellt. Stefanie schickt Rita schließlich ein Bild mit der Beschreibung Gezeichnetes buntes Bild eines kleinen Elefanten, der fröhlich über eine Wiese hüpft und Rita ist damit sehr zufrieden.\", \"Jennifer und Bernd führen eine lockere Unterhaltung am frühen Morgen. Jennifer hat gerade ihre Schulzeit abgeschlossen und genießt die freie Zeit. Sie geht tanzen, liest viel und plant, sich eine neue Hose für den Tanzsport zu kaufen. Bernd hingegen ist Student und arbeitet nebenbei in einem Bürojob. Er ist zufrieden mit seinem Leben und freut sich über die Flexibilität, die ihm Studium und Job bieten. Die beiden tauschen sich über ihre Zukunftspläne aus. Jennifer ist noch unentschlossen, was sie nach dem Abitur machen möchte. Ihre ursprünglichen Pläne, nach Australien zu gehen, scheinen sich zerschlagen zu haben. Stattdessen hat sie sich bei der Deutschen Flugsicherung beworben. Bernd hingegen ist optimistisch und genießt sein Studentenleben.\", \"Die beiden Gesprächspartner, Bert und Rolf, diskutieren über die aktuelle sportliche Situation von Borussia Dortmund. Sie sind beide der Meinung, dass der Trainer Lucien Favre nicht mehr der richtige Mann für den BVB ist. Als Gründe führen sie die schlechten Ergebnisse, insbesondere die Niederlage gegen Schalke 04 und das Unentschieden gegen einen vermeintlich schwächeren Gegner, an. Sie bemängeln auch die fehlende Weiterentwicklung der Mannschaft unter Favre und kritisieren dessen taktische Entscheidungen. Ein weiterer Kritikpunkt ist die fehlende Führung in der Mannschaft. Beide sind der Ansicht, dass Marco Reus nicht der geeignete Kapitän ist und dass Spieler wie Mats Hummels eher eine Führungsrolle übernehmen sollten. Auch die Leistungen anderer Spieler wie Marcel Schmelzer und Axel Witsel werden angezweifelt. Die beiden sind sich einig, dass ein Trainerwechsel unausweichlich ist, sofern sich die Ergebnisse nicht schnell verbessern. Sie hoffen auf einen neuen Trainer, der die Mannschaft wieder auf Kurs bringt und erfolgreich macht.\", \"Sarah möchte von Sven, einem Holzhandwerker, ein kleines Holzstück als Geschenk für eine ältere Dame erwerben. Sven bietet ihr verschiedene Optionen an, darunter eine Baumscheibe aus Eiche. Sie einigen sich auf die Baumscheibe und besprechen die Übergabe. Später erkundigt sich Sarah nach der Herkunft des Holzes und Sven erklärt, dass er es teilweise selbst sammelt und teilweise kauft. Es gibt einige organisatorische Details bezüglich der Abholung der Scheibe. Sven ist zunächst krankgeschrieben aufgrund einer Analthrombose, versichert Sarah aber, dass er die Scheibe fertiggestellt hat. Am Ende der Konversation geht es um eine mögliche weitere Bestellung von Sarah für ihren Weihnachtsmarktstand. Sven ist jedoch aufgrund seiner Erkrankung zunächst verhindert.\", \"Lara gratuliert Miriam zum Geburtstag und die beiden freuen sich darauf, sich bald wiederzusehen. Miriam informiert Lara über den Gesundheitszustand ihrer Mutter, der sich langsam verbessert. Sie vereinbaren ein Treffen am 22. Dezember und besprechen Details wie Zeit und Ort. Beide sind aufgeregt und freuen sich auf das gemeinsame Beisammensein.\"]\n",
    "counter = 0\n",
    "for element in generated_summary_prompt2_gemini:\n",
    "    generated_summary_prompt2_gemini[counter] = generated_summary_prompt2_gemini[counter].lower()\n",
    "    counter += 1\n",
    "\n",
    "sort_generated_summary_prompt2_gemini = []\n",
    "\n",
    "for element in generated_summary_prompt2_gemini:\n",
    "    new = []\n",
    "    zwischenspeicher = element.strip().split()\n",
    "    for word in zwischenspeicher:\n",
    "        if word not in german_stopwords: \n",
    "            new.append(word)  \n",
    "    sort_generated_summary_prompt2_gemini.append(\" \".join(new)) \n",
    "\n",
    "print(sort_generated_summary_prompt2_gemini)\n",
    "#print(len(reference_summary))"
   ]
  },
  {
   "cell_type": "code",
   "execution_count": 9,
   "id": "2fd2a210",
   "metadata": {},
   "outputs": [
    {
     "name": "stdout",
     "output_type": "stream",
     "text": [
      "[\"11. april 2018 findet austausch rita stefanie zuvor erstelltes kunstwerk statt. rita zeigt begeistert stefanie's arbeit äußert wunsch weiteren bildern. 13. april 2018 schlägt rita vor, stefanie zwei tierbilder, giraffe elefanten, lisas kinderzimmer malt. stefanie sofort einverstanden fragt gewünschten formaten rahmen. bietet an, projekt kostenlos übernehmen, hobby ist. beide vereinbaren groben zeitplan nächsten wochen. 5. mai 2018 teilt stefanie mit, bereits elefantenbild begonnen bald fertiggestellt wird. rita zeigt erfreut fortschritt.\", 'jennifer bernd führen lockeres gespräch frühen morgen 23. mai 2018. jennifer, gerade abitur hat, genießt freie zeit unternimmt viel. tanzt regelmäßig, liest ausgiebig plant, neue hose tanzsport kaufen. bernd hingegen student arbeitet nebenbei bürojob, angenehm empfindet. beide zufrieden leben. jennifer freut bernds erfolg job beziehung, bernd jennifers positive einstellung energie bewundert. sprechen zukunftspläne. jennifer unentschlossen, abitur möchte, bernd studienzeit genießt. besonderes thema jennifers geplatzter australien-plan. vor, australien gehen, ansprechpartnerin meldet zurück. daher deutschen flugsicherung beworben. bernd drückt neue bewerbung daumen. konversation zeichnet freundlichen lockeren ton aus. beide gesprächspartner zeigen interesse leben unterstützen gegenseitig. deutlich, enge freundschaft verbindet.', 'beiden gesprächspartner, bert rolf, diskutieren aktuelle sportliche situation borussia dortmund. beide meinung, mannschaft trainer lucien favre mehr erfolgreich wird. gründe führen schlechte tabellenplatzierung erzrivalen schalke 04, enttäuschenden leistungen einzelner spieler marco reus fehlende durchschlagskraft angriff an. besonders kritisiert defensive ausrichtung mannschaft favre. beiden ansicht, spieler axel witsel innenverteidigerposition eingesetzt sollten. entscheidung, mats hummels kapitän machen, falsch angesehen. möglichen nachfolger favre verschiedene trainernamen spiel gebracht. dabei jedoch betont, schwierig sei, trainer finden, mannschaft erfolgsspur führen könne. weiterer kritikpunkt fehlende führungskompetenz innerhalb mannschaft. sowohl reus hummels gute spieler gesehen, jedoch fähigkeit abgesprochen, mannschaft kapitän anzuführen. beiden einig, kommende derby schalke entscheidende partie favre wird.sollte dortmund spiel verlieren, sei trainerwechsel unausweichlich.', 'sarah möchte sven handgefertigtes holzstück bitten, älteren frau geburtstag schenken. sven bietet verschiedene optionen an, darunter baumscheibe eiche, besonders empfiehlt. sarah entscheidet baumscheibe einzelheiten abholung preis vereinbart. weiteren kommunikation deutlich, sven holzstücke leidenschaft herstellt freude daran hat, glücklich machen. bezieht holz teilweise schwager, bauern, ergänzt sortiment bestellungen internet. unglücklicherweise sven aufgrund analthrombose geplante lieferung sarah verschieben. erklärt, erkrankung sportliche aktivitäten ausgelöst', 'lara miriam planen treffen heiligabend. beiden freundinnen tauschen zunächst geburtstagswünsche sprechen gesundheitszustand miriams mutter. anschließend koordinieren treffen 22. dezember, lara eigentlichen heiligabend verhindert könnte. besprechen möglichkeit, miriams partner nico ebenfalls dabei kann. 22. dezember treffen konkreter geplant. entscheiden sich, 18 uhr brunnen treffen anschließend weihnachtsmarkt besuchen. lara bietet an, miriam abzuholen, lehnt jedoch ab. vereinbaren stattdessen, kassenautomaten rossmann treffen, parkmöglichkeiten unklar sind.']\n"
     ]
    }
   ],
   "source": [
    "\n",
    "generated_summary_prompt3_gemini =  [\"Am 11. April 2018 findet ein Austausch zwischen Rita und Stefanie über ein zuvor erstelltes Kunstwerk statt. Rita zeigt sich begeistert von Stefanie's Arbeit und äußert den Wunsch nach weiteren Bildern. Am 13. April 2018 schlägt Rita vor, dass Stefanie zwei Tierbilder, eine Giraffe und einen Elefanten, für Lisas Kinderzimmer malt. Stefanie ist sofort einverstanden und fragt nach den gewünschten Formaten und Rahmen. Sie bietet an, das Projekt kostenlos zu übernehmen, da es ihr Hobby ist. Beide vereinbaren einen groben Zeitplan für die nächsten Wochen. Am 5. Mai 2018 teilt Stefanie mit, dass sie bereits mit dem Elefantenbild begonnen hat und dieses bald fertiggestellt sein wird. Rita zeigt sich erfreut über den Fortschritt.\", \"Jennifer und Bernd führen ein lockeres Gespräch am frühen Morgen des 23. Mai 2018. Jennifer, die gerade ihr Abitur hinter sich hat, genießt die freie Zeit und unternimmt viel. Sie tanzt regelmäßig, liest ausgiebig und plant, sich eine neue Hose für den Tanzsport zu kaufen. Bernd hingegen ist Student und arbeitet nebenbei in einem Bürojob, den er als angenehm empfindet. Beide sind zufrieden mit ihrem Leben. Jennifer freut sich über Bernds Erfolg im Job und in der Beziehung, während Bernd Jennifers positive Einstellung und ihre Energie bewundert. Sie sprechen auch über ihre Zukunftspläne. Jennifer ist noch unentschlossen, was sie nach dem Abitur machen möchte, während Bernd seine Studienzeit genießt. Ein besonderes Thema ist Jennifers geplatzter Australien-Plan. Sie hatte vor, nach Australien zu gehen, aber ihre Ansprechpartnerin meldet sich nicht zurück. Daher hat sie sich nun bei der Deutschen Flugsicherung beworben. Bernd drückt ihr für diese neue Bewerbung die Daumen. Die Konversation zeichnet sich durch einen freundlichen und lockeren Ton aus. Beide Gesprächspartner zeigen Interesse an dem Leben des anderen und unterstützen sich gegenseitig. Es wird deutlich, dass sie eine enge Freundschaft verbindet.\", \"Die beiden Gesprächspartner, Bert und Rolf, diskutieren die aktuelle sportliche Situation von Borussia Dortmund. Sie sind beide der Meinung, dass die Mannschaft unter Trainer Lucien Favre nicht mehr erfolgreich sein wird. Als Gründe führen sie unter anderem die schlechte Tabellenplatzierung hinter dem Erzrivalen Schalke 04, die enttäuschenden Leistungen einzelner Spieler wie Marco Reus und die fehlende Durchschlagskraft im Angriff an. Besonders kritisiert wird die defensive Ausrichtung der Mannschaft unter Favre. Die beiden sind der Ansicht, dass Spieler wie Axel Witsel nicht auf der Innenverteidigerposition eingesetzt werden sollten. Auch die Entscheidung, Mats Hummels nicht zum Kapitän zu machen, wird als falsch angesehen. Als möglichen Nachfolger für Favre werden verschiedene Trainernamen ins Spiel gebracht. Dabei wird jedoch betont, dass es schwierig sei, einen Trainer zu finden, der die Mannschaft wieder auf die Erfolgsspur führen könne. Ein weiterer Kritikpunkt ist die fehlende Führungskompetenz innerhalb der Mannschaft. Sowohl Reus als auch Hummels werden zwar als gute Spieler gesehen, jedoch wird ihnen die Fähigkeit abgesprochen, die Mannschaft als Kapitän anzuführen. Die beiden sind sich einig, dass das kommende Derby gegen Schalke eine entscheidende Partie für Favre sein wird.Sollte Dortmund dieses Spiel verlieren, sei ein Trainerwechsel unausweichlich.\", \"Sarah möchte Sven um ein handgefertigtes Holzstück bitten, um es einer älteren Frau zum Geburtstag zu schenken. Sven bietet ihr verschiedene Optionen an, darunter eine Baumscheibe aus Eiche, die er besonders empfiehlt. Sarah entscheidet sich für die Baumscheibe und es werden Einzelheiten zur Abholung und zum Preis vereinbart. Während der weiteren Kommunikation wird deutlich, dass Sven seine Holzstücke mit Leidenschaft herstellt und Freude daran hat, andere damit glücklich zu machen. Er bezieht das Holz teilweise von seinem Schwager, einem Bauern, und ergänzt sein Sortiment durch Bestellungen im Internet. Unglücklicherweise muss Sven aufgrund einer Analthrombose eine geplante Lieferung an Sarah verschieben. Er erklärt, dass diese Erkrankung durch sportliche Aktivitäten ausgelöst \", \"Lara und Miriam planen ein Treffen am Heiligabend. Die beiden Freundinnen tauschen zunächst Geburtstagswünsche aus und sprechen über den Gesundheitszustand von Miriams Mutter. Anschließend koordinieren sie ein Treffen am 22. Dezember, da Lara am eigentlichen Heiligabend verhindert sein könnte. Sie besprechen die Möglichkeit, dass Miriams Partner Nico ebenfalls dabei sein kann. Am 22. Dezember wird das Treffen konkreter geplant. Sie entscheiden sich, sich gegen 18 Uhr am Brunnen zu treffen und anschließend den Weihnachtsmarkt zu besuchen. Lara bietet an, Miriam abzuholen, diese lehnt jedoch ab. Sie vereinbaren stattdessen, sich am Kassenautomaten bei Rossmann zu treffen, da die Parkmöglichkeiten unklar sind.\"]\n",
    "counter = 0\n",
    "for element in generated_summary_prompt3_gemini:\n",
    "    generated_summary_prompt3_gemini[counter] = generated_summary_prompt3_gemini[counter].lower()\n",
    "    counter += 1\n",
    "\n",
    "sort_generated_summary_prompt3_gemini = []\n",
    "\n",
    "for element in generated_summary_prompt3_gemini:\n",
    "    new = []\n",
    "    zwischenspeicher = element.strip().split()\n",
    "    for word in zwischenspeicher:\n",
    "        if word not in german_stopwords: \n",
    "            new.append(word)  \n",
    "    sort_generated_summary_prompt3_gemini.append(\" \".join(new))  \n",
    "\n",
    "print(sort_generated_summary_prompt3_gemini)\n",
    "#print(len(reference_summary))"
   ]
  },
  {
   "cell_type": "code",
   "execution_count": 10,
   "id": "a32a6f16",
   "metadata": {},
   "outputs": [],
   "source": [
    "reference_summary = sort_reference_summary\n",
    "\n",
    "generated_summary_prompt1_4o = sort_generated_summary_prompt1_4o\n",
    "generated_summary_prompt2_4o = sort_generated_summary_prompt2_4o\n",
    "generated_summary_prompt3_4o = sort_generated_summary_prompt3_4o\n",
    "\n",
    "generated_summary_prompt1_gemini = sort_generated_summary_prompt1_gemini\n",
    "generated_summary_prompt2_gemini = sort_generated_summary_prompt2_gemini\n",
    "generated_summary_prompt3_gemini = sort_generated_summary_prompt3_gemini\n",
    "\n",
    "all_generated_container = [\n",
    "    generated_summary_prompt1_4o,\n",
    "    generated_summary_prompt2_4o,\n",
    "    generated_summary_prompt3_4o,\n",
    "    generated_summary_prompt1_gemini,\n",
    "    generated_summary_prompt2_gemini,\n",
    "    generated_summary_prompt3_gemini\n",
    "]"
   ]
  },
  {
   "cell_type": "code",
   "execution_count": 11,
   "id": "074a3726",
   "metadata": {},
   "outputs": [
    {
     "name": "stdout",
     "output_type": "stream",
     "text": [
      "Outer: 0, Inner: 0, Score: 0.2432163953781128\n",
      "Outer: 0, Inner: 1, Score: 0.29150399565696716\n",
      "Outer: 0, Inner: 2, Score: 0.1900309920310974\n",
      "Outer: 0, Inner: 3, Score: 0.15531861782073975\n",
      "Outer: 0, Inner: 4, Score: 0.2200866937637329\n",
      "Outer: 1, Inner: 0, Score: 0.29107245802879333\n",
      "Outer: 1, Inner: 1, Score: 0.21689243614673615\n",
      "Outer: 1, Inner: 2, Score: 0.22601598501205444\n",
      "Outer: 1, Inner: 3, Score: 0.2057667374610901\n",
      "Outer: 1, Inner: 4, Score: 0.24759653210639954\n",
      "Outer: 2, Inner: 0, Score: 0.2489941418170929\n",
      "Outer: 2, Inner: 1, Score: 0.203509122133255\n",
      "Outer: 2, Inner: 2, Score: 0.21327199041843414\n",
      "Outer: 2, Inner: 3, Score: 0.21960407495498657\n",
      "Outer: 2, Inner: 4, Score: 0.29136398434638977\n",
      "Outer: 3, Inner: 0, Score: 0.2566105127334595\n",
      "Outer: 3, Inner: 1, Score: 0.25797218084335327\n",
      "Outer: 3, Inner: 2, Score: 0.19506263732910156\n",
      "Outer: 3, Inner: 3, Score: 0.17236484587192535\n",
      "Outer: 3, Inner: 4, Score: 0.1727515012025833\n",
      "Outer: 4, Inner: 0, Score: 0.2129439413547516\n",
      "Outer: 4, Inner: 1, Score: 0.23168540000915527\n",
      "Outer: 4, Inner: 2, Score: 0.22176167368888855\n",
      "Outer: 4, Inner: 3, Score: 0.1837327480316162\n",
      "Outer: 4, Inner: 4, Score: 0.1844337284564972\n",
      "Outer: 5, Inner: 0, Score: 0.2779238224029541\n",
      "Outer: 5, Inner: 1, Score: 0.2793126106262207\n",
      "Outer: 5, Inner: 2, Score: 0.2226448953151703\n",
      "Outer: 5, Inner: 3, Score: 0.1802956610918045\n",
      "Outer: 5, Inner: 4, Score: 0.2268732786178589\n"
     ]
    }
   ],
   "source": [
    "# BLEURT-Scores berechnen\n",
    "results = []\n",
    "for counter_outer_list in range(0, len(all_generated_container)):\n",
    "    for counter_inner_list in range(0, len(reference_summary)):\n",
    "        scores = scorer.score(\n",
    "            references=[reference_summary[counter_inner_list]],\n",
    "            candidates=[all_generated_container[counter_outer_list][counter_inner_list]]\n",
    "        )\n",
    "        print(f\"Outer: {counter_outer_list}, Inner: {counter_inner_list}, Score: {scores[0]}\")\n",
    "        results.append(scores[0])  # Speichere den Score"
   ]
  },
  {
   "cell_type": "code",
   "execution_count": 12,
   "id": "6511fc40",
   "metadata": {},
   "outputs": [
    {
     "data": {
      "text/html": [
       "<div>\n",
       "<style scoped>\n",
       "    .dataframe tbody tr th:only-of-type {\n",
       "        vertical-align: middle;\n",
       "    }\n",
       "\n",
       "    .dataframe tbody tr th {\n",
       "        vertical-align: top;\n",
       "    }\n",
       "\n",
       "    .dataframe thead th {\n",
       "        text-align: right;\n",
       "    }\n",
       "</style>\n",
       "<table border=\"1\" class=\"dataframe\">\n",
       "  <thead>\n",
       "    <tr style=\"text-align: right;\">\n",
       "      <th></th>\n",
       "      <th>Dialog</th>\n",
       "      <th>4o-briefly</th>\n",
       "      <th>Gemini-briefly</th>\n",
       "      <th>4o-normal</th>\n",
       "      <th>Gemini-normal</th>\n",
       "      <th>4o-detailed</th>\n",
       "      <th>Gemini-detailed</th>\n",
       "    </tr>\n",
       "  </thead>\n",
       "  <tbody>\n",
       "    <tr>\n",
       "      <th>0</th>\n",
       "      <td>DgfRz</td>\n",
       "      <td>0.243216</td>\n",
       "      <td>0.256611</td>\n",
       "      <td>0.291072</td>\n",
       "      <td>0.212944</td>\n",
       "      <td>0.248994</td>\n",
       "      <td>0.277924</td>\n",
       "    </tr>\n",
       "    <tr>\n",
       "      <th>1</th>\n",
       "      <td>4JS0w</td>\n",
       "      <td>0.291504</td>\n",
       "      <td>0.257972</td>\n",
       "      <td>0.216892</td>\n",
       "      <td>0.231685</td>\n",
       "      <td>0.203509</td>\n",
       "      <td>0.279313</td>\n",
       "    </tr>\n",
       "    <tr>\n",
       "      <th>2</th>\n",
       "      <td>HOO2U</td>\n",
       "      <td>0.190031</td>\n",
       "      <td>0.195063</td>\n",
       "      <td>0.226016</td>\n",
       "      <td>0.221762</td>\n",
       "      <td>0.213272</td>\n",
       "      <td>0.222645</td>\n",
       "    </tr>\n",
       "    <tr>\n",
       "      <th>3</th>\n",
       "      <td>oWtjC</td>\n",
       "      <td>0.155319</td>\n",
       "      <td>0.172365</td>\n",
       "      <td>0.205767</td>\n",
       "      <td>0.183733</td>\n",
       "      <td>0.219604</td>\n",
       "      <td>0.180296</td>\n",
       "    </tr>\n",
       "    <tr>\n",
       "      <th>4</th>\n",
       "      <td>pM5t5</td>\n",
       "      <td>0.220087</td>\n",
       "      <td>0.172752</td>\n",
       "      <td>0.247597</td>\n",
       "      <td>0.184434</td>\n",
       "      <td>0.291364</td>\n",
       "      <td>0.226873</td>\n",
       "    </tr>\n",
       "  </tbody>\n",
       "</table>\n",
       "</div>"
      ],
      "text/plain": [
       "  Dialog  4o-briefly  Gemini-briefly  4o-normal  Gemini-normal  4o-detailed  \\\n",
       "0  DgfRz    0.243216        0.256611   0.291072       0.212944     0.248994   \n",
       "1  4JS0w    0.291504        0.257972   0.216892       0.231685     0.203509   \n",
       "2  HOO2U    0.190031        0.195063   0.226016       0.221762     0.213272   \n",
       "3  oWtjC    0.155319        0.172365   0.205767       0.183733     0.219604   \n",
       "4  pM5t5    0.220087        0.172752   0.247597       0.184434     0.291364   \n",
       "\n",
       "   Gemini-detailed  \n",
       "0         0.277924  \n",
       "1         0.279313  \n",
       "2         0.222645  \n",
       "3         0.180296  \n",
       "4         0.226873  "
      ]
     },
     "execution_count": 12,
     "metadata": {},
     "output_type": "execute_result"
    }
   ],
   "source": [
    "import pandas as pd\n",
    "\n",
    "data = {\n",
    "    \"Dialog\": [\"DgfRz\",\"4JS0w\", \"HOO2U\",\"oWtjC\",\"pM5t5\"],\n",
    "    \"4o-briefly\": [results[0],results[1],results[2],results[3],results[4]],\n",
    "    \"Gemini-briefly\": [results[15],results[16],results[17],results[18],results[19]],\n",
    "    \"4o-normal\": [results[5],results[6],results[7],results[8],results[9]],\n",
    "    \"Gemini-normal\": [results[20],results[21],results[22],results[23],results[24]],\n",
    "    \"4o-detailed\": [results[10],results[11],results[12],results[13],results[14]],\n",
    "    \"Gemini-detailed\": [results[25],results[26],results[27],results[28],results[29]],\n",
    "}\n",
    "\n",
    "df = pd.DataFrame(data)\n",
    "\n",
    "df"
   ]
  },
  {
   "cell_type": "code",
   "execution_count": 13,
   "id": "a02ecea6",
   "metadata": {},
   "outputs": [
    {
     "name": "stdout",
     "output_type": "stream",
     "text": [
      "0.22003133893013\n",
      "0.23746882975101472\n",
      "0.23534866273403168\n",
      "0.2109523355960846\n",
      "0.20691149830818176\n",
      "0.2374100536108017\n"
     ]
    }
   ],
   "source": [
    "import numpy as np\n",
    "\n",
    "\n",
    "durchschnitt_4o_briefly_bleurt = np.mean(results[0:5])\n",
    "print(durchschnitt_4o_briefly_bleurt)\n",
    "\n",
    "durchschnitt_4o_normal_bleurt = np.mean(results[5:10])\n",
    "print(durchschnitt_4o_normal_bleurt)\n",
    "\n",
    "durchschnitt_4o_detailed_bleurt = np.mean(results[10:15])\n",
    "print(durchschnitt_4o_detailed_bleurt)\n",
    "\n",
    "\n",
    "\n",
    "durchschnitt_gemini_briefly_bleurt = np.mean(results[15:20])\n",
    "print(durchschnitt_gemini_briefly_bleurt)\n",
    "\n",
    "durchschnitt_gemini_normal_bleurt = np.mean(results[20:25])\n",
    "print(durchschnitt_gemini_normal_bleurt)\n",
    "\n",
    "durchschnitt_gemini_detailed_bleurt = np.mean(results[25:30])\n",
    "print(durchschnitt_gemini_detailed_bleurt)\n",
    "\n"
   ]
  }
 ],
 "metadata": {
  "kernelspec": {
   "display_name": "Python 3 (ipykernel)",
   "language": "python",
   "name": "python3"
  },
  "language_info": {
   "codemirror_mode": {
    "name": "ipython",
    "version": 3
   },
   "file_extension": ".py",
   "mimetype": "text/x-python",
   "name": "python",
   "nbconvert_exporter": "python",
   "pygments_lexer": "ipython3",
   "version": "3.11.5"
  }
 },
 "nbformat": 4,
 "nbformat_minor": 5
}
